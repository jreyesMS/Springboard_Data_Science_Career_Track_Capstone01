{
 "cells": [
  {
   "cell_type": "markdown",
   "metadata": {},
   "source": [
    "**Capstone Project 1 Data Wrangling Write-Up**  \n",
    "Jose Reyes - SpringBoard Data Science Career Track - Summer 2017\n"
   ]
  },
  {
   "cell_type": "markdown",
   "metadata": {},
   "source": [
    "My first capstone in the SpringBoard Data Science Career Track curriculum utilizes the [Speed Dating Experiment](https://www.kaggle.com/annavictoria/speed-dating-experiment) dataset from Kaggle.  This dataset is a summary of 4-four minute speed dates by 551 Columbia University participants over the course of 21 different events held between October 2002 and April 2004.  The dataset itself contains over 8,378 rows and 195 variables.  Closer inspection of the dataset showed that it was a mixture of each participants' assessment conducted over various time frames:  a sign-up questionnaire, speed-date result data, and various follow-up assessments conducted in the subsequent days and weeks.  This dataset is essentially a one-to-many summary of each participant's speed-dating experience, therefore it was essential to split the dataset into participant-level data and speed-date-result data.  The participant-level data consists of information that is unique for each indidivual such as each participant's demographics, hobbies/intersts, and attitudes/beliefs about the opposite sex.  The speed-date-result data more specifically diplays each participant's corresponding ratings of their speed-date partner including the unique ids of each participant and their dates as well as each others' ratings of physical and personality traits, and whether or not each participant liked their speed-date partner.  If both partners like each other, the participants are categorized as a match.\n",
    "\n",
    "Because this dataset contains data from post-speed-date-event follow-up questionnaires, my intial aim was to identify the variables that would predict a participant would go on a post-speed-date-event date with one of their matches.  Unfortunately, the dataset showed that approximately 60% of the data needed for prediction was omitted from the dataset.  This led to changing the aim of the capstone to identify the characteristics that, using a predictive algorithm, would predict a speed-date-event match.  \n",
    "\n",
    "To create the dataset needed for analysis, exploration, and the construction of the predictive algorithm, I discarded the variables that constituted the event follow-up questionnaire information as it was not relevant for the purposes of this capstone.  The variables containing the speed-date event data and the participant-level data were kept, thereby reducing the overall dataset to 91 variables.  Omitted from this data were most variables related to each participant's intended career as most were blank and were better summarized by the variables related to the participant's field of study.  Also omitted from the finalized dataset were each participant's hometown information and the income variable which not indicative of each participant's income but rather the median income of their hometown.\n",
    "\n",
    "Nearly all of the variables had varying degrees of missing data.  Aside from a few notable exceptions, the missing values were filled-in using the median value for each variable.  In the case of the correlation of interest variable (int_cor), which established a correlation between the hobbies/interests of each participants, I chose to use the mean value of the variable as the data key did not explain how the correlation computation for interest was conducted.  For visualization simply, the gender variable was recoded from binary to male/female values.  Lastly, the values in the met and met_o variables, which indicate whether speed date partners have met each other before, were correct from 1 and 2, yes/no respectively, to simple binary values.  \n",
    "\n",
    "There were a few outliers identified in the dataset with regards to participant's ages, in particular two participants whose ages were in the 40's and 50's, as the majority of partipants range from 18-35.  Since most of the participants in these speed-dating events are graduate students, the decision was made to keep these outlier participants as it not uncommon to have graduate students in these age ranges socialize and even date younger partners.\n",
    "\n"
   ]
  },
  {
   "cell_type": "code",
   "execution_count": null,
   "metadata": {
    "collapsed": true
   },
   "outputs": [],
   "source": []
  }
 ],
 "metadata": {
  "kernelspec": {
   "display_name": "Python 3",
   "language": "python",
   "name": "python3"
  },
  "language_info": {
   "codemirror_mode": {
    "name": "ipython",
    "version": 3
   },
   "file_extension": ".py",
   "mimetype": "text/x-python",
   "name": "python",
   "nbconvert_exporter": "python",
   "pygments_lexer": "ipython3",
   "version": "3.6.1"
  }
 },
 "nbformat": 4,
 "nbformat_minor": 2
}
